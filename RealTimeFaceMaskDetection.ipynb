{
 "cells": [
  {
   "cell_type": "code",
   "execution_count": 1,
   "metadata": {},
   "outputs": [],
   "source": [
    "from keras.preprocessing import image\n",
    "from tensorflow import keras\n",
    "import matplotlib.pyplot as plt\n",
    "import numpy as np\n",
    "import cv2"
   ]
  },
  {
   "cell_type": "code",
   "execution_count": 3,
   "metadata": {},
   "outputs": [],
   "source": [
    "model = keras.models.load_model('masknet.h5')"
   ]
  },
  {
   "cell_type": "code",
   "execution_count": 4,
   "metadata": {},
   "outputs": [],
   "source": [
    "face_model = cv2.CascadeClassifier('haarcascade-frontal-facedefault.xml')"
   ]
  },
  {
   "cell_type": "code",
   "execution_count": 7,
   "metadata": {},
   "outputs": [],
   "source": [
    "mask_label = {0:'MASK',1:'NO MASK'}\n",
    "\n",
    "cap = cv2.VideoCapture(0)  \n",
    "while(True):\n",
    "    ret, frame = cap.read() \n",
    "    img = cv2.cvtColor(frame, cv2.IMREAD_GRAYSCALE)\n",
    "    faces = face_model.detectMultiScale(img)\n",
    "\n",
    "    label = [0 for i in range(len(faces))]\n",
    "    for i in range(len(faces)):\n",
    "        (x,y,w,h) = faces[i]\n",
    "        cv2.rectangle(frame,(x,y),(x+w,y+h),(0,0,255),2)\n",
    "        crop = frame[y:y+h,x:x+w]\n",
    "        crop = cv2.resize(crop,(128,128))\n",
    "        crop = np.reshape(crop,[1,128,128,3])/255.0\n",
    "        mask_result = model.predict(crop)\n",
    "        cv2.putText(frame,mask_label[mask_result.argmax()],(x, y-10),cv2.FONT_HERSHEY_SIMPLEX,0.5,2)\n",
    "    cv2.imshow('Frame',frame)    \n",
    "    if cv2.waitKey(1) & 0xFF == ord('q'):\n",
    "        break\n",
    "cap.release()\n",
    "cv2.destroyAllWindows()"
   ]
  },
  {
   "cell_type": "code",
   "execution_count": null,
   "metadata": {},
   "outputs": [],
   "source": []
  }
 ],
 "metadata": {
  "kernelspec": {
   "display_name": "Python 3",
   "language": "python",
   "name": "python3"
  },
  "language_info": {
   "codemirror_mode": {
    "name": "ipython",
    "version": 3
   },
   "file_extension": ".py",
   "mimetype": "text/x-python",
   "name": "python",
   "nbconvert_exporter": "python",
   "pygments_lexer": "ipython3",
   "version": "3.7.3"
  }
 },
 "nbformat": 4,
 "nbformat_minor": 2
}
